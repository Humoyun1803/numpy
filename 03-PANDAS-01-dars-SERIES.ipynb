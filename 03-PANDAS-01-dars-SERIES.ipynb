{
 "cells": [
  {
   "cell_type": "markdown",
   "id": "034e315b",
   "metadata": {},
   "source": [
    "![Imgur](https://i.imgur.com/5pXzCIu.png)\n",
    "\n",
    "# Data Science va Sun'iy Intellekt Praktikum\n",
    "\n",
    "## Ma'lumotlar tahlili. Pandas kutubxonasi.\n",
    "\n",
    "### 2.2 Pandas kutubxonasi bilan tanishuv\n",
    "\n",
    "`pandas` kutubxonasi ma'lumotlar muhandisining eng muhim ish quroli hisoblanadi. Data Science loyihalar ustida ishlar ekanmiz, 90% amallar aynan pandas yordamida amalga oshiriladi. `pandas` o'zining maxsus ma'lumotlar tuzilmalariga ega va bu tuzilmalar ma'lumotlarga ishlov berish, tozalash va boshqa amllarni bir necha barobar osonlashtiradi.\n",
    "\n",
    "Avvalgi bo'limda ko'rilgan `numpy` kutubxonasidan farqli ravishda, `pandas` kutubxonasi faqatgina sonlardan iborat massivlar bilan emas, balki turli ko'rinishdagi ma'lumotlardan iborat jadvallar bilan ishlashga moslashgan."
   ]
  },
  {
   "cell_type": "markdown",
   "id": "8211f25f",
   "metadata": {},
   "source": [
    "### Kutubxonani chaqiramiz\n",
    "\n",
    "Oson bo'lishi uchun `pandas` kutubxonasini `pd` deb chaqirib olish urf bo'lgan."
   ]
  },
  {
   "cell_type": "code",
   "execution_count": 21,
   "id": "5b0ccbd9",
   "metadata": {},
   "outputs": [],
   "source": [
    "import pandas as pd\n",
    "import numpy as np"
   ]
  },
  {
   "cell_type": "markdown",
   "id": "c73942a4",
   "metadata": {},
   "source": [
    "## `pandas` tarkibidagi ma'lumotlar tuzilmalari\n",
    "\n",
    "pandas ikkita juda muhim va deyalri barcha loyihalar uchun mos tushuvchi Series va DataFrame ma'lumotlar tuzilamalariga ega. Keling ular bilan yaqindan tanishamiz.\n",
    "\n",
    "Boshlanishiga bu ikki tuzilmalarni ham dasturimizga chaqirib olaylik."
   ]
  },
  {
   "cell_type": "code",
   "execution_count": 3,
   "id": "a543bf7d",
   "metadata": {},
   "outputs": [],
   "source": [
    "from pandas import Series, DataFrame as df # DataFrameni qisqacha qilib df deb chariqib oldik"
   ]
  },
  {
   "cell_type": "markdown",
   "id": "8d88ccbd",
   "metadata": {},
   "source": [
    "### 2.2.1 `Series`\n",
    "\n",
    "`Series` bir o'lchovli massivga o'xshash ma'lumotlar tuzilmasi bo'lib qiymatlar va ularga mos keluvchi indekslardan iborat bo'ladi. \n",
    "\n",
    "Eng sodda ko'rinishda `Series` ma'lumotlar massividan iborat bo'ladi."
   ]
  },
  {
   "cell_type": "code",
   "execution_count": 46,
   "id": "7cbe335d",
   "metadata": {},
   "outputs": [],
   "source": [
    "obj = Series([4, 5, -7, 3.2])"
   ]
  },
  {
   "cell_type": "code",
   "execution_count": 5,
   "id": "3bafadcc",
   "metadata": {},
   "outputs": [
    {
     "data": {
      "text/plain": [
       "0    4.0\n",
       "1    5.0\n",
       "2   -7.0\n",
       "3    3.2\n",
       "dtype: float64"
      ]
     },
     "execution_count": 5,
     "metadata": {},
     "output_type": "execute_result"
    }
   ],
   "source": [
    "obj"
   ]
  },
  {
   "cell_type": "markdown",
   "id": "81e157e1",
   "metadata": {},
   "source": [
    "Konsolga chop etganda ,`Series` yuqoridagi kabi indekslar (chap ustun) va qiymatlar (o'ng ustun) ko'rinishida chiqadi. \n",
    "`Series` obyektini yaratsihda indekslarni bermaganimiz sababli indekslar `0` dan `N-1` gacha qiymatlarni oladi (`N` ma'lumotlar uzunligi). \n",
    "\n",
    "`Series` obyekti index va qiymatlarini alohida ajratib ko'rishimiz ham mumkin."
   ]
  },
  {
   "cell_type": "code",
   "execution_count": 6,
   "id": "78c31c02",
   "metadata": {},
   "outputs": [
    {
     "data": {
      "text/plain": [
       "array([ 4. ,  5. , -7. ,  3.2])"
      ]
     },
     "execution_count": 6,
     "metadata": {},
     "output_type": "execute_result"
    }
   ],
   "source": [
    "obj.values # qiymatlar"
   ]
  },
  {
   "cell_type": "code",
   "execution_count": 7,
   "id": "175bf75c",
   "metadata": {},
   "outputs": [
    {
     "data": {
      "text/plain": [
       "RangeIndex(start=0, stop=4, step=1)"
      ]
     },
     "execution_count": 7,
     "metadata": {},
     "output_type": "execute_result"
    }
   ],
   "source": [
    "obj.index # indekslar"
   ]
  },
  {
   "cell_type": "markdown",
   "id": "2367f3a6",
   "metadata": {},
   "source": [
    "Qiymatlarga indeks orqali murojaat qilish mumkin."
   ]
  },
  {
   "cell_type": "code",
   "execution_count": 13,
   "id": "b5f547ad",
   "metadata": {},
   "outputs": [
    {
     "data": {
      "text/plain": [
       "4.0"
      ]
     },
     "execution_count": 13,
     "metadata": {},
     "output_type": "execute_result"
    }
   ],
   "source": [
    "obj[0] # birinchi element"
   ]
  },
  {
   "cell_type": "code",
   "execution_count": 17,
   "id": "3e9d806e",
   "metadata": {},
   "outputs": [
    {
     "data": {
      "text/plain": [
       "3.2"
      ]
     },
     "execution_count": 17,
     "metadata": {},
     "output_type": "execute_result"
    }
   ],
   "source": [
    "obj[3]"
   ]
  },
  {
   "cell_type": "markdown",
   "id": "140e5f2b",
   "metadata": {},
   "source": [
    "`Series` obyektini yaratishda indekslarga o'zimiz ham nom berishimiz mumkin"
   ]
  },
  {
   "cell_type": "code",
   "execution_count": 8,
   "id": "9faa330a",
   "metadata": {},
   "outputs": [],
   "source": [
    "obj2 = Series([4, 5, -7, 3.2], index=['a','b','c','d']) # bu yerda indekslarga alifbo harflarini berdik."
   ]
  },
  {
   "cell_type": "code",
   "execution_count": 9,
   "id": "beac19c7",
   "metadata": {},
   "outputs": [
    {
     "data": {
      "text/plain": [
       "a    4.0\n",
       "b    5.0\n",
       "c   -7.0\n",
       "d    3.2\n",
       "dtype: float64"
      ]
     },
     "execution_count": 9,
     "metadata": {},
     "output_type": "execute_result"
    }
   ],
   "source": [
    "obj2"
   ]
  },
  {
   "cell_type": "code",
   "execution_count": 10,
   "id": "5aa9cb88",
   "metadata": {},
   "outputs": [
    {
     "data": {
      "text/plain": [
       "Index(['a', 'b', 'c', 'd'], dtype='object')"
      ]
     },
     "execution_count": 10,
     "metadata": {},
     "output_type": "execute_result"
    }
   ],
   "source": [
    "obj2.index"
   ]
  },
  {
   "cell_type": "markdown",
   "id": "43be3341",
   "metadata": {},
   "source": [
    "Obyekt ichidagi qiymatlarga esa yana indeks orqali murojaat qilamiz:"
   ]
  },
  {
   "cell_type": "code",
   "execution_count": 12,
   "id": "43de675d",
   "metadata": {},
   "outputs": [
    {
     "data": {
      "text/plain": [
       "4.0"
      ]
     },
     "execution_count": 12,
     "metadata": {},
     "output_type": "execute_result"
    }
   ],
   "source": [
    "obj2['a']"
   ]
  },
  {
   "cell_type": "code",
   "execution_count": 47,
   "id": "63865e7c",
   "metadata": {},
   "outputs": [],
   "source": [
    "obj2['a']=4.5"
   ]
  },
  {
   "cell_type": "code",
   "execution_count": 48,
   "id": "4a413744",
   "metadata": {},
   "outputs": [
    {
     "data": {
      "text/plain": [
       "a    4.5\n",
       "b    5.0\n",
       "c   -7.0\n",
       "d    3.2\n",
       "dtype: float64"
      ]
     },
     "execution_count": 48,
     "metadata": {},
     "output_type": "execute_result"
    }
   ],
   "source": [
    "obj2"
   ]
  },
  {
   "cell_type": "markdown",
   "id": "bab2c845",
   "metadata": {},
   "source": [
    "Yangi qiymat qo'shish:"
   ]
  },
  {
   "cell_type": "code",
   "execution_count": 50,
   "id": "cdd471d4",
   "metadata": {},
   "outputs": [],
   "source": [
    "obj2['e']=5"
   ]
  },
  {
   "cell_type": "code",
   "execution_count": 51,
   "id": "c34c0ec5",
   "metadata": {},
   "outputs": [
    {
     "data": {
      "text/plain": [
       "a    4.5\n",
       "b    5.0\n",
       "c   -7.0\n",
       "d    3.2\n",
       "e    5.0\n",
       "dtype: float64"
      ]
     },
     "execution_count": 51,
     "metadata": {},
     "output_type": "execute_result"
    }
   ],
   "source": [
    "obj2"
   ]
  },
  {
   "cell_type": "markdown",
   "id": "5862e186",
   "metadata": {},
   "source": [
    "Birdaniga bir nechta qiymatlarni olish:"
   ]
  },
  {
   "cell_type": "code",
   "execution_count": 52,
   "id": "3a59ef9e",
   "metadata": {},
   "outputs": [
    {
     "data": {
      "text/plain": [
       "a    4.5\n",
       "c   -7.0\n",
       "e    5.0\n",
       "dtype: float64"
      ]
     },
     "execution_count": 52,
     "metadata": {},
     "output_type": "execute_result"
    }
   ],
   "source": [
    "obj2[['a','c','e']]"
   ]
  },
  {
   "cell_type": "markdown",
   "id": "62ad79f0",
   "metadata": {},
   "source": [
    "`Series` obyekti ustida arifmetik amallar bajarishda indekslar saqlanib qoladi"
   ]
  },
  {
   "cell_type": "code",
   "execution_count": 19,
   "id": "e300b78e",
   "metadata": {},
   "outputs": [
    {
     "data": {
      "text/plain": [
       "a    4.0\n",
       "b    5.0\n",
       "d    3.2\n",
       "dtype: float64"
      ]
     },
     "execution_count": 19,
     "metadata": {},
     "output_type": "execute_result"
    }
   ],
   "source": [
    "obj2[obj2>0]"
   ]
  },
  {
   "cell_type": "code",
   "execution_count": 20,
   "id": "293ecf62",
   "metadata": {},
   "outputs": [
    {
     "data": {
      "text/plain": [
       "a     8.0\n",
       "b    10.0\n",
       "c   -14.0\n",
       "d     6.4\n",
       "dtype: float64"
      ]
     },
     "execution_count": 20,
     "metadata": {},
     "output_type": "execute_result"
    }
   ],
   "source": [
    "obj2*2"
   ]
  },
  {
   "cell_type": "code",
   "execution_count": 22,
   "id": "e305c453",
   "metadata": {},
   "outputs": [
    {
     "data": {
      "text/plain": [
       "a     54.598150\n",
       "b    148.413159\n",
       "c      0.000912\n",
       "d     24.532530\n",
       "dtype: float64"
      ]
     },
     "execution_count": 22,
     "metadata": {},
     "output_type": "execute_result"
    }
   ],
   "source": [
    "np.exp(obj2)"
   ]
  },
  {
   "cell_type": "markdown",
   "id": "9e1883b4",
   "metadata": {},
   "source": [
    "`Series` obyektini Pythondagi lug'at (dictionary) ma'lumot turiga ham o'xshatish mumkin. Yodingizda bo'lsa lug'at elementlari ham 2 qismdan, kalit va qiymatdan iborat edi.\n",
    "\n",
    "O'rni kelganda bu turdagi obyektlardan lug'atdan foydalangandek ham foydalanish mumkin:"
   ]
  },
  {
   "cell_type": "code",
   "execution_count": 94,
   "id": "4965d6f3",
   "metadata": {},
   "outputs": [
    {
     "data": {
      "text/plain": [
       "True"
      ]
     },
     "execution_count": 94,
     "metadata": {},
     "output_type": "execute_result"
    }
   ],
   "source": [
    "'b' in obj2"
   ]
  },
  {
   "cell_type": "code",
   "execution_count": 24,
   "id": "5ff5aa83",
   "metadata": {},
   "outputs": [
    {
     "data": {
      "text/plain": [
       "False"
      ]
     },
     "execution_count": 24,
     "metadata": {},
     "output_type": "execute_result"
    }
   ],
   "source": [
    "'x' in obj2"
   ]
  },
  {
   "cell_type": "markdown",
   "id": "69800b4e",
   "metadata": {},
   "source": [
    "Lug'atdan `Series` obyektini yaratish ham juda oson:"
   ]
  },
  {
   "cell_type": "code",
   "execution_count": 96,
   "id": "80b4c570",
   "metadata": {},
   "outputs": [],
   "source": [
    "cars_dict = {'Malibu':40000, 'Lacetti':20000, 'Toyota':45000, 'Mazda':52000, 'Honda':38000} # bu lug'at"
   ]
  },
  {
   "cell_type": "code",
   "execution_count": 97,
   "id": "caeb485a",
   "metadata": {},
   "outputs": [],
   "source": [
    "salon1 = Series(cars_dict) # lug'atdan Sereis yaratamiz"
   ]
  },
  {
   "cell_type": "code",
   "execution_count": 98,
   "id": "7986df89",
   "metadata": {},
   "outputs": [
    {
     "data": {
      "text/plain": [
       "Malibu     40000\n",
       "Lacetti    20000\n",
       "Toyota     45000\n",
       "Mazda      52000\n",
       "Honda      38000\n",
       "dtype: int64"
      ]
     },
     "execution_count": 98,
     "metadata": {},
     "output_type": "execute_result"
    }
   ],
   "source": [
    "salon1"
   ]
  },
  {
   "cell_type": "code",
   "execution_count": 99,
   "id": "675dc4ea",
   "metadata": {},
   "outputs": [
    {
     "data": {
      "text/plain": [
       "38000"
      ]
     },
     "execution_count": 99,
     "metadata": {},
     "output_type": "execute_result"
    }
   ],
   "source": [
    "salon1['Honda']"
   ]
  },
  {
   "cell_type": "markdown",
   "id": "ed32445c",
   "metadata": {},
   "source": [
    "Lug'atdan `Series` yaratishda yangi elementlar indeksi lug'atda berilgan ketma-ketlikda bo'ladi. Bu ketma-ketlikni biz avvaldan ro'yxat ko'rinishida ham berishimiz mumkin."
   ]
  },
  {
   "cell_type": "code",
   "execution_count": 100,
   "id": "75ba0338",
   "metadata": {},
   "outputs": [],
   "source": [
    "models = ['Honda','Mazda','Lacetti','Jaguar','Malibu','Toyota'] # buyerda bitta qo'shimcha model bor"
   ]
  },
  {
   "cell_type": "markdown",
   "id": "36d73f52",
   "metadata": {},
   "source": [
    "Ahamiyat bering, `viloyatlar` ro'yxatida qo'shimcha `Buxoro` elemtni ham bor, `Series` elementi yaratilganda ro'yxtada mavjud bo'lmagan qiymatlar o'rniga `NaN` (Not a number, son emas) qiymati qo'yib ketiladi."
   ]
  },
  {
   "cell_type": "code",
   "execution_count": 114,
   "id": "9f97a253",
   "metadata": {},
   "outputs": [],
   "source": [
    "salon2 = Series(cars_dict, index=models)"
   ]
  },
  {
   "cell_type": "code",
   "execution_count": 115,
   "id": "a955010c",
   "metadata": {},
   "outputs": [
    {
     "data": {
      "text/plain": [
       "Honda      38000.0\n",
       "Mazda      52000.0\n",
       "Lacetti    20000.0\n",
       "Jaguar         NaN\n",
       "Malibu     40000.0\n",
       "Toyota     45000.0\n",
       "dtype: float64"
      ]
     },
     "execution_count": 115,
     "metadata": {},
     "output_type": "execute_result"
    }
   ],
   "source": [
    "salon2"
   ]
  },
  {
   "cell_type": "markdown",
   "id": "e5855406",
   "metadata": {},
   "source": [
    "Keyinchalik, ma'lumotlar bilan ishlaganda `NaN` qiymatlarni ajratish muhim ahamiyatga ega. Buning uchun `Series` obyekti bir maxsus metodlarga ega:"
   ]
  },
  {
   "cell_type": "code",
   "execution_count": 116,
   "id": "8c0d2048",
   "metadata": {},
   "outputs": [
    {
     "data": {
      "text/plain": [
       "Honda      False\n",
       "Mazda      False\n",
       "Lacetti    False\n",
       "Jaguar      True\n",
       "Malibu     False\n",
       "Toyota     False\n",
       "dtype: bool"
      ]
     },
     "execution_count": 116,
     "metadata": {},
     "output_type": "execute_result"
    }
   ],
   "source": [
    "salon2.isnull() # qiymat null (mavjud emasligini) tekshirish uchun"
   ]
  },
  {
   "cell_type": "code",
   "execution_count": 117,
   "id": "0337db34",
   "metadata": {},
   "outputs": [
    {
     "data": {
      "text/plain": [
       "Honda       True\n",
       "Mazda       True\n",
       "Lacetti     True\n",
       "Jaguar     False\n",
       "Malibu      True\n",
       "Toyota      True\n",
       "dtype: bool"
      ]
     },
     "execution_count": 117,
     "metadata": {},
     "output_type": "execute_result"
    }
   ],
   "source": [
    "salon2.notnull() # qiymat null emasligini (mavjudligini) tekshirish uchun"
   ]
  },
  {
   "cell_type": "markdown",
   "id": "bd8cb678",
   "metadata": {},
   "source": [
    "`Series` obyektining muhim jihatlaridan biri, ikkita `series` obyektini qo'shishda (ayirishda) qiymatlar indeks bo'yicha qo'shiladi."
   ]
  },
  {
   "cell_type": "code",
   "execution_count": 118,
   "id": "b117c771",
   "metadata": {},
   "outputs": [
    {
     "data": {
      "text/plain": [
       "Honda      38000.0\n",
       "Mazda      52000.0\n",
       "Lacetti    20000.0\n",
       "Jaguar         NaN\n",
       "Malibu     40000.0\n",
       "Toyota     45000.0\n",
       "dtype: float64"
      ]
     },
     "execution_count": 118,
     "metadata": {},
     "output_type": "execute_result"
    }
   ],
   "source": [
    "salon2"
   ]
  },
  {
   "cell_type": "code",
   "execution_count": 128,
   "id": "f39d6df2",
   "metadata": {},
   "outputs": [],
   "source": [
    "# 'Honda','Mazda','Lacetti','Jaguar','Malibu','Toyota'\n",
    "new_prices = Series({\"Honda\":5000, \"Mazda\":-3000, \"Malibu\":4500, \"Toyota\":5200, 'Lacetti':-1200})"
   ]
  },
  {
   "cell_type": "code",
   "execution_count": 129,
   "id": "2c0d0a51",
   "metadata": {},
   "outputs": [
    {
     "data": {
      "text/plain": [
       "Honda      5000\n",
       "Mazda     -3000\n",
       "Malibu     4500\n",
       "Toyota     5200\n",
       "Lacetti   -1200\n",
       "dtype: int64"
      ]
     },
     "execution_count": 129,
     "metadata": {},
     "output_type": "execute_result"
    }
   ],
   "source": [
    "new_prices"
   ]
  },
  {
   "cell_type": "code",
   "execution_count": 130,
   "id": "c0b9173b",
   "metadata": {},
   "outputs": [
    {
     "data": {
      "text/plain": [
       "Honda      43000.0\n",
       "Jaguar         NaN\n",
       "Lacetti    18800.0\n",
       "Malibu     44500.0\n",
       "Mazda      49000.0\n",
       "Toyota     50200.0\n",
       "dtype: float64"
      ]
     },
     "execution_count": 130,
     "metadata": {},
     "output_type": "execute_result"
    }
   ],
   "source": [
    "salon2+new_prices"
   ]
  },
  {
   "cell_type": "markdown",
   "id": "484e452f",
   "metadata": {},
   "source": [
    "`Series` obyektining o'zini ham indekslarini ham nomlash mumkin:"
   ]
  },
  {
   "cell_type": "code",
   "execution_count": 131,
   "id": "744f8738",
   "metadata": {},
   "outputs": [],
   "source": [
    "salon2.name = 'Avtosalon'"
   ]
  },
  {
   "cell_type": "code",
   "execution_count": 132,
   "id": "c5314005",
   "metadata": {},
   "outputs": [],
   "source": [
    "salon2.index.name = 'Car Model'"
   ]
  },
  {
   "cell_type": "code",
   "execution_count": 140,
   "id": "e5eeedbb",
   "metadata": {},
   "outputs": [
    {
     "data": {
      "text/plain": [
       "Car Model\n",
       "Honda      38000.0\n",
       "Mazda      52000.0\n",
       "Lacetti    20000.0\n",
       "Jaguar         NaN\n",
       "Malibu     40000.0\n",
       "Toyota     45000.0\n",
       "Name: Avtosalon, dtype: float64"
      ]
     },
     "execution_count": 140,
     "metadata": {},
     "output_type": "execute_result"
    }
   ],
   "source": [
    "salon2"
   ]
  },
  {
   "cell_type": "code",
   "execution_count": 141,
   "id": "7882e172",
   "metadata": {},
   "outputs": [
    {
     "data": {
      "text/plain": [
       "'Avtosalon'"
      ]
     },
     "execution_count": 141,
     "metadata": {},
     "output_type": "execute_result"
    }
   ],
   "source": [
    "salon2.name"
   ]
  },
  {
   "cell_type": "markdown",
   "id": "51ca624d",
   "metadata": {},
   "source": [
    "## `Series` obyektiga oid ba'zi parametrlar va metodlar"
   ]
  },
  {
   "cell_type": "code",
   "execution_count": 160,
   "id": "56a96c8c",
   "metadata": {},
   "outputs": [
    {
     "data": {
      "text/plain": [
       "Index(['Honda', 'Mazda', 'Lacetti', 'Jaguar', 'Malibu', 'Toyota'], dtype='object', name='Car Model')"
      ]
     },
     "execution_count": 160,
     "metadata": {},
     "output_type": "execute_result"
    }
   ],
   "source": [
    "salon2.index # indekslar "
   ]
  },
  {
   "cell_type": "code",
   "execution_count": 161,
   "id": "3a6fe77b",
   "metadata": {},
   "outputs": [
    {
     "data": {
      "text/plain": [
       "array([38000., 52000., 20000.,    nan, 40000., 45000.])"
      ]
     },
     "execution_count": 161,
     "metadata": {},
     "output_type": "execute_result"
    }
   ],
   "source": [
    "salon2.values # qiymatlar"
   ]
  },
  {
   "cell_type": "code",
   "execution_count": 170,
   "id": "2cebdbaa",
   "metadata": {},
   "outputs": [
    {
     "data": {
      "text/plain": [
       "True"
      ]
     },
     "execution_count": 170,
     "metadata": {},
     "output_type": "execute_result"
    }
   ],
   "source": [
    "salon2.hasnans # NaN qiymatlar bor (True) yo'qligi (False)"
   ]
  },
  {
   "cell_type": "code",
   "execution_count": 164,
   "id": "4aa0030c",
   "metadata": {},
   "outputs": [
    {
     "data": {
      "text/plain": [
       "dtype('float64')"
      ]
     },
     "execution_count": 164,
     "metadata": {},
     "output_type": "execute_result"
    }
   ],
   "source": [
    "salon2.dtype # qiymatlarning ma'lumot turi"
   ]
  },
  {
   "cell_type": "code",
   "execution_count": 172,
   "id": "0259d253",
   "metadata": {},
   "outputs": [
    {
     "data": {
      "text/plain": [
       "True"
      ]
     },
     "execution_count": 172,
     "metadata": {},
     "output_type": "execute_result"
    }
   ],
   "source": [
    "salon2.is_unique # qiymatlar takrorlanmas ekanini tekshirish"
   ]
  },
  {
   "cell_type": "code",
   "execution_count": 153,
   "id": "6225a021",
   "metadata": {},
   "outputs": [
    {
     "data": {
      "text/plain": [
       "(6,)"
      ]
     },
     "execution_count": 153,
     "metadata": {},
     "output_type": "execute_result"
    }
   ],
   "source": [
    "salon2.shape # Series hajmi"
   ]
  },
  {
   "cell_type": "code",
   "execution_count": 154,
   "id": "42ff4fa8",
   "metadata": {
    "scrolled": true
   },
   "outputs": [
    {
     "data": {
      "text/plain": [
       "6"
      ]
     },
     "execution_count": 154,
     "metadata": {},
     "output_type": "execute_result"
    }
   ],
   "source": [
    "salon2.size # Series hajmi"
   ]
  },
  {
   "cell_type": "code",
   "execution_count": 168,
   "id": "abfa7655",
   "metadata": {
    "scrolled": true
   },
   "outputs": [
    {
     "data": {
      "text/plain": [
       "20000.0"
      ]
     },
     "execution_count": 168,
     "metadata": {},
     "output_type": "execute_result"
    }
   ],
   "source": [
    "salon2.iloc[2] # ma'lumotlarga indeks tartib raqami bo'yicha murojaat qilish"
   ]
  },
  {
   "cell_type": "code",
   "execution_count": 169,
   "id": "57edc208",
   "metadata": {},
   "outputs": [
    {
     "data": {
      "text/plain": [
       "45000.0"
      ]
     },
     "execution_count": 169,
     "metadata": {},
     "output_type": "execute_result"
    }
   ],
   "source": [
    "salon2.iloc[-1]"
   ]
  },
  {
   "cell_type": "code",
   "execution_count": 165,
   "id": "f1b022d9",
   "metadata": {},
   "outputs": [
    {
     "data": {
      "text/plain": [
       "38000.0"
      ]
     },
     "execution_count": 165,
     "metadata": {},
     "output_type": "execute_result"
    }
   ],
   "source": [
    "salon2['Honda'] # ma'lumotlarga indeks bo'yicha murojaat qilish"
   ]
  },
  {
   "cell_type": "code",
   "execution_count": 166,
   "id": "4d0ba654",
   "metadata": {},
   "outputs": [
    {
     "data": {
      "text/plain": [
       "45000.0"
      ]
     },
     "execution_count": 166,
     "metadata": {},
     "output_type": "execute_result"
    }
   ],
   "source": [
    "salon2.loc['Toyota'] # ma'lumotlarga indeks bo'yicha murojaat qilish"
   ]
  },
  {
   "cell_type": "code",
   "execution_count": 157,
   "id": "67589333",
   "metadata": {},
   "outputs": [
    {
     "data": {
      "text/plain": [
       "52000.0"
      ]
     },
     "execution_count": 157,
     "metadata": {},
     "output_type": "execute_result"
    }
   ],
   "source": [
    "salon2.max() # max qiymat"
   ]
  },
  {
   "cell_type": "code",
   "execution_count": 158,
   "id": "1f221603",
   "metadata": {},
   "outputs": [
    {
     "data": {
      "text/plain": [
       "20000.0"
      ]
     },
     "execution_count": 158,
     "metadata": {},
     "output_type": "execute_result"
    }
   ],
   "source": [
    "salon2.min() # min qiymat"
   ]
  },
  {
   "cell_type": "code",
   "execution_count": 173,
   "id": "ef0ba978",
   "metadata": {},
   "outputs": [
    {
     "data": {
      "text/plain": [
       "39000.0"
      ]
     },
     "execution_count": 173,
     "metadata": {},
     "output_type": "execute_result"
    }
   ],
   "source": [
    "salon2.mean() # o'rtacha qiymat"
   ]
  },
  {
   "cell_type": "markdown",
   "id": "71d61527",
   "metadata": {},
   "source": [
    "## AMALIYOT"
   ]
  },
  {
   "cell_type": "code",
   "execution_count": null,
   "id": "59a40094",
   "metadata": {},
   "outputs": [],
   "source": []
  }
 ],
 "metadata": {
  "kernelspec": {
   "display_name": "Python 3",
   "language": "python",
   "name": "python3"
  },
  "language_info": {
   "codemirror_mode": {
    "name": "ipython",
    "version": 3
   },
   "file_extension": ".py",
   "mimetype": "text/x-python",
   "name": "python",
   "nbconvert_exporter": "python",
   "pygments_lexer": "ipython3",
   "version": "3.8.8"
  }
 },
 "nbformat": 4,
 "nbformat_minor": 5
}
