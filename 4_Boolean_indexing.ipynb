{
  "nbformat": 4,
  "nbformat_minor": 0,
  "metadata": {
    "colab": {
      "name": "#4_Boolean_indexing.ipynb",
      "provenance": [],
      "collapsed_sections": []
    },
    "kernelspec": {
      "name": "python3",
      "display_name": "Python 3"
    },
    "language_info": {
      "name": "python"
    }
  },
  "cells": [
    {
      "cell_type": "markdown",
      "metadata": {
        "id": "zBWv0WJ39keg"
      },
      "source": [
        "![Imgur](https://i.imgur.com/5pXzCIu.png)"
      ]
    },
    {
      "cell_type": "markdown",
      "metadata": {
        "id": "ch5VyND2-JmM"
      },
      "source": [
        "# Data Science va Sun'iy Intellekt Praktikum\n",
        "\n",
        "## Ma'lumotlar tahlili. \n",
        "## 2.1. NumPy kutubxonasi bilan ishlash"
      ]
    },
    {
      "cell_type": "markdown",
      "metadata": {
        "id": "1e6-gSC4-N69"
      },
      "source": [
        "### NumPy kutubxonasini chaqirib olish"
      ]
    },
    {
      "cell_type": "code",
      "metadata": {
        "id": "q0DbFB6B9gcS"
      },
      "source": [
        "import numpy as np"
      ],
      "execution_count": null,
      "outputs": []
    },
    {
      "cell_type": "markdown",
      "metadata": {
        "id": "XrmD_g-d-RH2"
      },
      "source": [
        "### 2.1.1. N-o'lchamli massiv (array)larga ishlov berish\n",
        "\n",
        "### Bolean Indekslash"
      ]
    },
    {
      "cell_type": "code",
      "metadata": {
        "id": "Ym3lp7ip-Vi_",
        "colab": {
          "base_uri": "https://localhost:8080/"
        },
        "outputId": "0b46872d-9ca0-4071-9e6a-fde8b28317e6"
      },
      "source": [
        "# Ismlar\n",
        "names = np.array(['Hasan', 'Husan', 'Mirzabek', 'Elyor', 'Hasan', 'Javohir', 'Elyor'])\n",
        "names"
      ],
      "execution_count": null,
      "outputs": [
        {
          "output_type": "execute_result",
          "data": {
            "text/plain": [
              "array(['Hasan', 'Husan', 'Mirzabek', 'Elyor', 'Hasan', 'Javohir', 'Elyor'],\n",
              "      dtype='<U8')"
            ]
          },
          "metadata": {},
          "execution_count": 2
        }
      ]
    },
    {
      "cell_type": "code",
      "metadata": {
        "colab": {
          "base_uri": "https://localhost:8080/"
        },
        "id": "pLDNjxVIBn3V",
        "outputId": "9c06841a-7875-407f-e29b-505ed9d12b26"
      },
      "source": [
        "# data\n",
        "data = np.random.randn(7, 4)\n",
        "data"
      ],
      "execution_count": null,
      "outputs": [
        {
          "output_type": "execute_result",
          "data": {
            "text/plain": [
              "array([[-0.53188163, -0.10705259, -0.20993863,  1.8967824 ],\n",
              "       [ 0.60283261, -0.14034977, -0.0923303 ,  0.37854178],\n",
              "       [ 0.07191395,  1.07229759,  0.10236782,  0.6537079 ],\n",
              "       [-1.2909134 , -0.57715948,  0.00242281,  0.96883777],\n",
              "       [ 0.97125202, -0.03558379, -0.16035862, -0.90338805],\n",
              "       [ 0.25626888,  1.75120741, -1.10553012,  0.88876279],\n",
              "       [-0.51654642,  1.17040117,  1.27444859, -0.33890306]])"
            ]
          },
          "metadata": {},
          "execution_count": 3
        }
      ]
    },
    {
      "cell_type": "code",
      "metadata": {
        "colab": {
          "base_uri": "https://localhost:8080/"
        },
        "id": "a53hDtpkCWyx",
        "outputId": "909af8f4-9254-4a77-b288-1eec30384999"
      },
      "source": [
        "names == 'Hasan'"
      ],
      "execution_count": null,
      "outputs": [
        {
          "output_type": "execute_result",
          "data": {
            "text/plain": [
              "array([ True, False, False, False,  True, False, False])"
            ]
          },
          "metadata": {},
          "execution_count": 4
        }
      ]
    },
    {
      "cell_type": "code",
      "metadata": {
        "colab": {
          "base_uri": "https://localhost:8080/"
        },
        "id": "ThCOh66WEVYP",
        "outputId": "87f12937-b167-4443-c738-a68dd1dbcf21"
      },
      "source": [
        "data[names == 'Hasan'] # Hasanga tegishli barcha ma'lumotlarni ajratib olish"
      ],
      "execution_count": null,
      "outputs": [
        {
          "output_type": "execute_result",
          "data": {
            "text/plain": [
              "array([[-0.53188163, -0.10705259, -0.20993863,  1.8967824 ],\n",
              "       [ 0.97125202, -0.03558379, -0.16035862, -0.90338805]])"
            ]
          },
          "metadata": {},
          "execution_count": 5
        }
      ]
    },
    {
      "cell_type": "code",
      "metadata": {
        "colab": {
          "base_uri": "https://localhost:8080/"
        },
        "id": "ljoMKFUkEzmz",
        "outputId": "5f3480a7-bb43-4fa8-e507-5ae174fed05e"
      },
      "source": [
        "data[names == 'Elyor'] # Elyorga tegishli barcha ma'lumotlarni ajratib olish"
      ],
      "execution_count": null,
      "outputs": [
        {
          "output_type": "execute_result",
          "data": {
            "text/plain": [
              "array([[-1.2909134 , -0.57715948,  0.00242281,  0.96883777],\n",
              "       [-0.51654642,  1.17040117,  1.27444859, -0.33890306]])"
            ]
          },
          "metadata": {},
          "execution_count": 6
        }
      ]
    },
    {
      "cell_type": "code",
      "metadata": {
        "colab": {
          "base_uri": "https://localhost:8080/"
        },
        "id": "ejgUAYI7FIB8",
        "outputId": "89f6c31a-6b5c-4622-a3c4-00a68efc97d7"
      },
      "source": [
        "data[names=='Hasan', 2:] # Hasanga tegishli oxirgi ikkita ustundagi ma'lumotlarni ajratib olish"
      ],
      "execution_count": null,
      "outputs": [
        {
          "output_type": "execute_result",
          "data": {
            "text/plain": [
              "array([[-0.20993863,  1.8967824 ],\n",
              "       [-0.16035862, -0.90338805]])"
            ]
          },
          "metadata": {},
          "execution_count": 7
        }
      ]
    },
    {
      "cell_type": "code",
      "metadata": {
        "colab": {
          "base_uri": "https://localhost:8080/"
        },
        "id": "RUfmICrEFvck",
        "outputId": "bc24675d-9cca-462b-be51-6773c3ad51fd"
      },
      "source": [
        "data[names != 'Hasan'] # (!=)Hasandan tashqari barcha insonlarning ma'lumotlarni ajratib olish"
      ],
      "execution_count": null,
      "outputs": [
        {
          "output_type": "execute_result",
          "data": {
            "text/plain": [
              "array([[ 0.60283261, -0.14034977, -0.0923303 ,  0.37854178],\n",
              "       [ 0.07191395,  1.07229759,  0.10236782,  0.6537079 ],\n",
              "       [-1.2909134 , -0.57715948,  0.00242281,  0.96883777],\n",
              "       [ 0.25626888,  1.75120741, -1.10553012,  0.88876279],\n",
              "       [-0.51654642,  1.17040117,  1.27444859, -0.33890306]])"
            ]
          },
          "metadata": {},
          "execution_count": 8
        }
      ]
    },
    {
      "cell_type": "code",
      "metadata": {
        "colab": {
          "base_uri": "https://localhost:8080/"
        },
        "id": "rrZ4B2tIGYxX",
        "outputId": "a8207b22-f222-45bf-b69b-0ee0494b698e"
      },
      "source": [
        "data[~(names == 'Hasan')] # (~) yuqoridagi cell bilan bir xil natijani berar ekan"
      ],
      "execution_count": null,
      "outputs": [
        {
          "output_type": "execute_result",
          "data": {
            "text/plain": [
              "array([[ 0.60283261, -0.14034977, -0.0923303 ,  0.37854178],\n",
              "       [ 0.07191395,  1.07229759,  0.10236782,  0.6537079 ],\n",
              "       [-1.2909134 , -0.57715948,  0.00242281,  0.96883777],\n",
              "       [ 0.25626888,  1.75120741, -1.10553012,  0.88876279],\n",
              "       [-0.51654642,  1.17040117,  1.27444859, -0.33890306]])"
            ]
          },
          "metadata": {},
          "execution_count": 9
        }
      ]
    },
    {
      "cell_type": "code",
      "metadata": {
        "colab": {
          "base_uri": "https://localhost:8080/"
        },
        "id": "91DS5gweLKk5",
        "outputId": "a75aa60a-d98c-4996-b0c5-341516d0c26a"
      },
      "source": [
        "print(names)\n",
        "print(data)"
      ],
      "execution_count": null,
      "outputs": [
        {
          "output_type": "stream",
          "name": "stdout",
          "text": [
            "['Hasan' 'Husan' 'Mirzabek' 'Elyor' 'Hasan' 'Javohir' 'Elyor']\n",
            "[[-0.53188163 -0.10705259 -0.20993863  1.8967824 ]\n",
            " [ 0.60283261 -0.14034977 -0.0923303   0.37854178]\n",
            " [ 0.07191395  1.07229759  0.10236782  0.6537079 ]\n",
            " [-1.2909134  -0.57715948  0.00242281  0.96883777]\n",
            " [ 0.97125202 -0.03558379 -0.16035862 -0.90338805]\n",
            " [ 0.25626888  1.75120741 -1.10553012  0.88876279]\n",
            " [-0.51654642  1.17040117  1.27444859 -0.33890306]]\n"
          ]
        }
      ]
    },
    {
      "cell_type": "code",
      "metadata": {
        "colab": {
          "base_uri": "https://localhost:8080/"
        },
        "id": "fNQCoGQsLSQZ",
        "outputId": "805db155-bd3c-4078-ea84-ecd7d2b04644"
      },
      "source": [
        "mask = (names == 'Hasan') | (names == 'Husan') # \"|\" or (yoki)\n",
        "mask"
      ],
      "execution_count": null,
      "outputs": [
        {
          "output_type": "execute_result",
          "data": {
            "text/plain": [
              "array([ True,  True, False, False,  True, False, False])"
            ]
          },
          "metadata": {},
          "execution_count": 26
        }
      ]
    },
    {
      "cell_type": "code",
      "metadata": {
        "colab": {
          "base_uri": "https://localhost:8080/"
        },
        "id": "Z0WL8bRnL7p5",
        "outputId": "355b5577-0d68-46c1-e172-90448abf5836"
      },
      "source": [
        "data[mask] # Hasan va Husanlarga tegishli ma'lumotlarni ajratib olish"
      ],
      "execution_count": null,
      "outputs": [
        {
          "output_type": "execute_result",
          "data": {
            "text/plain": [
              "array([[-0.53188163, -0.10705259, -0.20993863,  1.8967824 ],\n",
              "       [ 0.60283261, -0.14034977, -0.0923303 ,  0.37854178],\n",
              "       [ 0.97125202, -0.03558379, -0.16035862, -0.90338805]])"
            ]
          },
          "metadata": {},
          "execution_count": 27
        }
      ]
    },
    {
      "cell_type": "code",
      "metadata": {
        "colab": {
          "base_uri": "https://localhost:8080/"
        },
        "id": "0e3_RkL_MKFd",
        "outputId": "5588b6d7-b1c5-4c4d-a705-252fa67bf5d8"
      },
      "source": [
        "data"
      ],
      "execution_count": null,
      "outputs": [
        {
          "output_type": "execute_result",
          "data": {
            "text/plain": [
              "array([[-0.53188163, -0.10705259, -0.20993863,  1.8967824 ],\n",
              "       [ 0.60283261, -0.14034977, -0.0923303 ,  0.37854178],\n",
              "       [ 0.07191395,  1.07229759,  0.10236782,  0.6537079 ],\n",
              "       [-1.2909134 , -0.57715948,  0.00242281,  0.96883777],\n",
              "       [ 0.97125202, -0.03558379, -0.16035862, -0.90338805],\n",
              "       [ 0.25626888,  1.75120741, -1.10553012,  0.88876279],\n",
              "       [-0.51654642,  1.17040117,  1.27444859, -0.33890306]])"
            ]
          },
          "metadata": {},
          "execution_count": 29
        }
      ]
    },
    {
      "cell_type": "code",
      "metadata": {
        "colab": {
          "base_uri": "https://localhost:8080/"
        },
        "id": "A90xfXpMM7fK",
        "outputId": "caceab77-3ca9-4f1c-b025-3babbd3fe6fe"
      },
      "source": [
        "data[data<0] = 0\n",
        "data"
      ],
      "execution_count": null,
      "outputs": [
        {
          "output_type": "execute_result",
          "data": {
            "text/plain": [
              "array([[0.        , 0.        , 0.        , 1.8967824 ],\n",
              "       [0.60283261, 0.        , 0.        , 0.37854178],\n",
              "       [0.07191395, 1.07229759, 0.10236782, 0.6537079 ],\n",
              "       [0.        , 0.        , 0.00242281, 0.96883777],\n",
              "       [0.97125202, 0.        , 0.        , 0.        ],\n",
              "       [0.25626888, 1.75120741, 0.        , 0.88876279],\n",
              "       [0.        , 1.17040117, 1.27444859, 0.        ]])"
            ]
          },
          "metadata": {},
          "execution_count": 35
        }
      ]
    }
  ]
}