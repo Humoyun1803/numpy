{
  "nbformat": 4,
  "nbformat_minor": 0,
  "metadata": {
    "colab": {
      "name": "2.1.3.Arr_Or_Pr#4Sorting.ipynb",
      "provenance": [],
      "collapsed_sections": []
    },
    "kernelspec": {
      "name": "python3",
      "display_name": "Python 3"
    },
    "language_info": {
      "name": "python"
    }
  },
  "cells": [
    {
      "cell_type": "markdown",
      "metadata": {
        "id": "NpBfYISf4O0t"
      },
      "source": [
        "![Imgur](https://i.imgur.com/5pXzCIu.png)"
      ]
    },
    {
      "cell_type": "markdown",
      "metadata": {
        "id": "-5o8R3ob4WRJ"
      },
      "source": [
        "# Data Science va Sun'iy Intellekt Praktikum\n",
        "\n",
        "## Ma'lumotlar tahlili. \n",
        "## 2.1. NumPy kutubxonasi bilan ishlash"
      ]
    },
    {
      "cell_type": "markdown",
      "metadata": {
        "id": "burAbl0s4Z5l"
      },
      "source": [
        "### NumPy kutubxonasini chaqirib olish"
      ]
    },
    {
      "cell_type": "code",
      "metadata": {
        "id": "e271tzUC4Ang"
      },
      "source": [
        "import numpy as np"
      ],
      "execution_count": null,
      "outputs": []
    },
    {
      "cell_type": "markdown",
      "metadata": {
        "id": "s-Mrj5DB4d-Y"
      },
      "source": [
        "### 2.1.3. Massivga yo'naltirilgan dasturlash"
      ]
    },
    {
      "cell_type": "markdown",
      "metadata": {
        "id": "Pk_PEYLm4h-C"
      },
      "source": [
        "### Tartiblash (`Sorting`)"
      ]
    },
    {
      "cell_type": "code",
      "metadata": {
        "colab": {
          "base_uri": "https://localhost:8080/"
        },
        "id": "QsHLxeYx8E-o",
        "outputId": "fcac411a-3931-4dc8-abc3-2e8c95354982"
      },
      "source": [
        "# data\n",
        "arr = np.random.rand(4) # 4 ta taxminiy elementlardan tashkil topgan massiv\n",
        "arr"
      ],
      "execution_count": null,
      "outputs": [
        {
          "output_type": "execute_result",
          "data": {
            "text/plain": [
              "array([0.00154748, 0.95231861, 0.52353173, 0.78106709])"
            ]
          },
          "metadata": {},
          "execution_count": 22
        }
      ]
    },
    {
      "cell_type": "markdown",
      "metadata": {
        "id": "bUSPOp-u-adC"
      },
      "source": [
        "### `sort` funkiyasi"
      ]
    },
    {
      "cell_type": "code",
      "metadata": {
        "colab": {
          "base_uri": "https://localhost:8080/"
        },
        "id": "Zfn2XUfV95B4",
        "outputId": "37aa6610-0fc8-4b8f-f799-dab3b949525c"
      },
      "source": [
        "# 1 usul\n",
        "sorted_arr = np.sort(arr) # arr massivini tartiblangan ko'rinishini sorted_arr joylaydi\n",
        "sorted_arr"
      ],
      "execution_count": null,
      "outputs": [
        {
          "output_type": "execute_result",
          "data": {
            "text/plain": [
              "array([0.00154748, 0.52353173, 0.78106709, 0.95231861])"
            ]
          },
          "metadata": {},
          "execution_count": 24
        }
      ]
    },
    {
      "cell_type": "code",
      "metadata": {
        "colab": {
          "base_uri": "https://localhost:8080/"
        },
        "id": "U4pElKNTBqMH",
        "outputId": "77e6c477-3e04-492f-ae08-2803cc0bea97"
      },
      "source": [
        "#  2 usul\n",
        "arr.sort() # arr ning tartiblangan ko'rinishi\n",
        "arr"
      ],
      "execution_count": null,
      "outputs": [
        {
          "output_type": "execute_result",
          "data": {
            "text/plain": [
              "array([0.00154748, 0.52353173, 0.78106709, 0.95231861])"
            ]
          },
          "metadata": {},
          "execution_count": 25
        }
      ]
    },
    {
      "cell_type": "code",
      "metadata": {
        "colab": {
          "base_uri": "https://localhost:8080/"
        },
        "id": "Wgick8kJCm65",
        "outputId": "7a1069d4-85bb-40a3-ee4c-1bf0c771d023"
      },
      "source": [
        "# teskari tartiblash\n",
        "rev_arr = -np.sort(-arr) # teskari tartibdagi arr\n",
        "rev_arr"
      ],
      "execution_count": null,
      "outputs": [
        {
          "output_type": "execute_result",
          "data": {
            "text/plain": [
              "array([0.95231861, 0.78106709, 0.52353173, 0.00154748])"
            ]
          },
          "metadata": {},
          "execution_count": 29
        }
      ]
    },
    {
      "cell_type": "code",
      "metadata": {
        "colab": {
          "base_uri": "https://localhost:8080/"
        },
        "id": "SFHq4QFgEIWd",
        "outputId": "051cce0b-27a4-41df-e3e9-4f01b9ebd099"
      },
      "source": [
        "# 2 D array (massiv)\n",
        "arr2d = np.random.randn(2, 4) # (2, 4) random massiv\n",
        "arr2d"
      ],
      "execution_count": null,
      "outputs": [
        {
          "output_type": "execute_result",
          "data": {
            "text/plain": [
              "array([[ 0.39234394,  0.06630415,  0.68868407, -0.14314612],\n",
              "       [-0.86193768, -0.48095979,  0.80620653, -0.09093883]])"
            ]
          },
          "metadata": {},
          "execution_count": 32
        }
      ]
    },
    {
      "cell_type": "code",
      "metadata": {
        "colab": {
          "base_uri": "https://localhost:8080/"
        },
        "id": "E3KFUAUCHeoM",
        "outputId": "88cfa5da-0cc5-4f52-fe53-bc2cd42d811e"
      },
      "source": [
        "# axis = 0 --> Qator\n",
        "row_srt = np.sort(arr2d, axis=0) # arr2d ning xar bir qator bo'yicha tartiblangan ko'rinishi\n",
        "row_srt"
      ],
      "execution_count": null,
      "outputs": [
        {
          "output_type": "execute_result",
          "data": {
            "text/plain": [
              "array([[-0.86193768, -0.48095979,  0.68868407, -0.14314612],\n",
              "       [ 0.39234394,  0.06630415,  0.80620653, -0.09093883]])"
            ]
          },
          "metadata": {},
          "execution_count": 39
        }
      ]
    },
    {
      "cell_type": "code",
      "metadata": {
        "colab": {
          "base_uri": "https://localhost:8080/"
        },
        "id": "q_xG4ugsIueX",
        "outputId": "5391eedd-dba3-4601-9b6b-90577334558c"
      },
      "source": [
        "# axis =1 --> Ustun\n",
        "col_srt =np.sort(arr2d, axis=1) # arr2d ning xar bir ustun bo'yicha tartiblangan ko'rinishi\n",
        "col_srt"
      ],
      "execution_count": null,
      "outputs": [
        {
          "output_type": "execute_result",
          "data": {
            "text/plain": [
              "array([[-0.14314612,  0.06630415,  0.39234394,  0.68868407],\n",
              "       [-0.86193768, -0.48095979, -0.09093883,  0.80620653]])"
            ]
          },
          "metadata": {},
          "execution_count": 40
        }
      ]
    }
  ]
}