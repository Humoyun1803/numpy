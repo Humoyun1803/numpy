{
  "nbformat": 4,
  "nbformat_minor": 0,
  "metadata": {
    "colab": {
      "name": "2.1.3.Arr_Or_Pr#1_Logical_set.ipynb",
      "provenance": [],
      "collapsed_sections": []
    },
    "kernelspec": {
      "name": "python3",
      "display_name": "Python 3"
    },
    "language_info": {
      "name": "python"
    }
  },
  "cells": [
    {
      "cell_type": "markdown",
      "metadata": {
        "id": "PNNpFfSSZaUw"
      },
      "source": [
        "![Imgur](https://i.imgur.com/5pXzCIu.png)"
      ]
    },
    {
      "cell_type": "markdown",
      "metadata": {
        "id": "zTwn4OxpZcIl"
      },
      "source": [
        "# Data Science va Sun'iy Intellekt Praktikum\n",
        "\n",
        "## Ma'lumotlar tahlili. \n",
        "## 2.1. NumPy kutubxonasi bilan ishlash"
      ]
    },
    {
      "cell_type": "markdown",
      "metadata": {
        "id": "DYp3_KroZfSq"
      },
      "source": [
        "### NumPy kutubxonasini chaqirib olish"
      ]
    },
    {
      "cell_type": "code",
      "metadata": {
        "id": "6f9tO07zYEi1"
      },
      "source": [
        "import numpy as np"
      ],
      "execution_count": null,
      "outputs": []
    },
    {
      "cell_type": "markdown",
      "metadata": {
        "id": "0TzeAc9XZjes"
      },
      "source": [
        "### 2.1.3. Massivga yo'naltirilgan dasturlash"
      ]
    },
    {
      "cell_type": "markdown",
      "metadata": {
        "id": "9smD1SX6Zri5"
      },
      "source": [
        "### Mantiqiy shart operatorlarni massiv operator sifatida qo'llash"
      ]
    },
    {
      "cell_type": "markdown",
      "metadata": {
        "id": "l_U7QSF7aIPL"
      },
      "source": [
        "### Shart operatori sifatida `where` dan foydalanish"
      ]
    },
    {
      "cell_type": "markdown",
      "metadata": {
        "id": "a6bYV_yocQrs"
      },
      "source": [
        "### Tassavur qiling bizda ikkita ma'lumotlar (massivlar) mavjud bular: `xarr` va `yarr`. Agarda shart `True`ni qanoatlantirsa `xarr` elementini qabul qilgan aksincha esa `yarr` elementini qabul qilgan yangi massiv hosil qilinsin."
      ]
    },
    {
      "cell_type": "code",
      "metadata": {
        "id": "uet_VgeQZhKM"
      },
      "source": [
        "# Massivlar\n",
        "xarr = np.array([1.1, 1.2, 1.3, 1.4, 1.5]) # xarr\n",
        "yarr = np.array([2.1, 2.2, 2.3, 2.4, 2.5]) # yarr"
      ],
      "execution_count": null,
      "outputs": []
    },
    {
      "cell_type": "code",
      "metadata": {
        "id": "braOAXM0dmIR"
      },
      "source": [
        "# Shart\n",
        "cond = np.array([True, False, True, True, False])"
      ],
      "execution_count": null,
      "outputs": []
    },
    {
      "cell_type": "code",
      "metadata": {
        "colab": {
          "base_uri": "https://localhost:8080/"
        },
        "id": "nNGabDPghWJR",
        "outputId": "3923857b-4890-4c21-d0ae-74592bb938b0"
      },
      "source": [
        "# where\n",
        "result = np.where(cond, xarr, yarr) # cond==True : xarr elementi, cond==False : yarr elementi\n",
        "result"
      ],
      "execution_count": null,
      "outputs": [
        {
          "output_type": "execute_result",
          "data": {
            "text/plain": [
              "array([1.1, 2.2, 1.3, 1.4, 2.5])"
            ]
          },
          "metadata": {},
          "execution_count": 7
        }
      ]
    },
    {
      "cell_type": "code",
      "metadata": {
        "colab": {
          "base_uri": "https://localhost:8080/"
        },
        "id": "N0V1aPoCiowg",
        "outputId": "c74b0095-c2fe-4014-f213-ac9423edd592"
      },
      "source": [
        "arr = np.random.randn(4, 4)  # (4, 4) taxminiy massiv\n",
        "arr"
      ],
      "execution_count": null,
      "outputs": [
        {
          "output_type": "execute_result",
          "data": {
            "text/plain": [
              "array([[-1.6297284 , -0.54502   , -1.62194039,  0.21950899],\n",
              "       [-1.02568231, -1.22287873, -3.35638726,  1.38844975],\n",
              "       [ 0.29573755, -1.474369  , -0.87661759,  0.50263388],\n",
              "       [ 0.5828061 , -1.80441975, -0.58818259,  1.05593611]])"
            ]
          },
          "metadata": {},
          "execution_count": 8
        }
      ]
    },
    {
      "cell_type": "code",
      "metadata": {
        "colab": {
          "base_uri": "https://localhost:8080/"
        },
        "id": "5Ov_uFGskFpD",
        "outputId": "6f3dc4f7-ec48-419e-99d6-7ec89be3d856"
      },
      "source": [
        "# where\n",
        "results = np.where(arr<0, -2, 2) # arr ning manfiy elementlarini -2 ga musbat elementlarin esa 2 ga almashitirish\n",
        "results"
      ],
      "execution_count": null,
      "outputs": [
        {
          "output_type": "execute_result",
          "data": {
            "text/plain": [
              "array([[-2, -2, -2,  2],\n",
              "       [-2, -2, -2,  2],\n",
              "       [ 2, -2, -2,  2],\n",
              "       [ 2, -2, -2,  2]])"
            ]
          },
          "metadata": {},
          "execution_count": 9
        }
      ]
    }
  ]
}